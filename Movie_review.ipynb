{
 "cells": [
  {
   "cell_type": "code",
   "execution_count": 1,
   "metadata": {},
   "outputs": [],
   "source": [
    "import pandas as pd\n",
    "import numpy as np\n",
    "import nltk\n",
    "from nltk.corpus import stopwords\n",
    "from sklearn.feature_extraction.text import TfidfVectorizer\n",
    "from sklearn.model_selection import train_test_split\n",
    "from sklearn import naive_bayes\n",
    "from sklearn.metrics import roc_auc_score,accuracy_score"
   ]
  },
  {
   "cell_type": "code",
   "execution_count": 2,
   "metadata": {},
   "outputs": [],
   "source": [
    "dataset = pd.read_csv('reviews.txt',sep = '\\t', names =['Reviews','Comments'])"
   ]
  },
  {
   "cell_type": "code",
   "execution_count": 3,
   "metadata": {},
   "outputs": [
    {
     "data": {
      "text/html": [
       "<div>\n",
       "<style scoped>\n",
       "    .dataframe tbody tr th:only-of-type {\n",
       "        vertical-align: middle;\n",
       "    }\n",
       "\n",
       "    .dataframe tbody tr th {\n",
       "        vertical-align: top;\n",
       "    }\n",
       "\n",
       "    .dataframe thead th {\n",
       "        text-align: right;\n",
       "    }\n",
       "</style>\n",
       "<table border=\"1\" class=\"dataframe\">\n",
       "  <thead>\n",
       "    <tr style=\"text-align: right;\">\n",
       "      <th></th>\n",
       "      <th>Reviews</th>\n",
       "      <th>Comments</th>\n",
       "    </tr>\n",
       "  </thead>\n",
       "  <tbody>\n",
       "    <tr>\n",
       "      <th>0</th>\n",
       "      <td>1</td>\n",
       "      <td>The Da Vinci Code book is just awesome.</td>\n",
       "    </tr>\n",
       "    <tr>\n",
       "      <th>1</th>\n",
       "      <td>1</td>\n",
       "      <td>this was the first clive cussler i've ever rea...</td>\n",
       "    </tr>\n",
       "    <tr>\n",
       "      <th>2</th>\n",
       "      <td>1</td>\n",
       "      <td>i liked the Da Vinci Code a lot.</td>\n",
       "    </tr>\n",
       "    <tr>\n",
       "      <th>3</th>\n",
       "      <td>1</td>\n",
       "      <td>i liked the Da Vinci Code a lot.</td>\n",
       "    </tr>\n",
       "    <tr>\n",
       "      <th>4</th>\n",
       "      <td>1</td>\n",
       "      <td>I liked the Da Vinci Code but it ultimatly did...</td>\n",
       "    </tr>\n",
       "    <tr>\n",
       "      <th>5</th>\n",
       "      <td>1</td>\n",
       "      <td>that's not even an exaggeration ) and at midni...</td>\n",
       "    </tr>\n",
       "    <tr>\n",
       "      <th>6</th>\n",
       "      <td>1</td>\n",
       "      <td>I loved the Da Vinci Code, but now I want some...</td>\n",
       "    </tr>\n",
       "    <tr>\n",
       "      <th>7</th>\n",
       "      <td>1</td>\n",
       "      <td>i thought da vinci code was great, same with k...</td>\n",
       "    </tr>\n",
       "    <tr>\n",
       "      <th>8</th>\n",
       "      <td>1</td>\n",
       "      <td>The Da Vinci Code is actually a good movie...</td>\n",
       "    </tr>\n",
       "    <tr>\n",
       "      <th>9</th>\n",
       "      <td>1</td>\n",
       "      <td>I thought the Da Vinci Code was a pretty good ...</td>\n",
       "    </tr>\n",
       "  </tbody>\n",
       "</table>\n",
       "</div>"
      ],
      "text/plain": [
       "   Reviews                                           Comments\n",
       "0        1            The Da Vinci Code book is just awesome.\n",
       "1        1  this was the first clive cussler i've ever rea...\n",
       "2        1                   i liked the Da Vinci Code a lot.\n",
       "3        1                   i liked the Da Vinci Code a lot.\n",
       "4        1  I liked the Da Vinci Code but it ultimatly did...\n",
       "5        1  that's not even an exaggeration ) and at midni...\n",
       "6        1  I loved the Da Vinci Code, but now I want some...\n",
       "7        1  i thought da vinci code was great, same with k...\n",
       "8        1      The Da Vinci Code is actually a good movie...\n",
       "9        1  I thought the Da Vinci Code was a pretty good ..."
      ]
     },
     "execution_count": 3,
     "metadata": {},
     "output_type": "execute_result"
    }
   ],
   "source": [
    "dataset.head(10)"
   ]
  },
  {
   "cell_type": "code",
   "execution_count": 4,
   "metadata": {},
   "outputs": [],
   "source": [
    "stopset = set(stopwords.words('english'))\n",
    "vectorizer = TfidfVectorizer(use_idf = True,lowercase = True, strip_accents='ascii',stop_words=stopset)"
   ]
  },
  {
   "cell_type": "code",
   "execution_count": 5,
   "metadata": {},
   "outputs": [],
   "source": [
    "y = dataset.Reviews"
   ]
  },
  {
   "cell_type": "code",
   "execution_count": 6,
   "metadata": {},
   "outputs": [],
   "source": [
    "X = vectorizer.fit_transform(dataset.Comments)"
   ]
  },
  {
   "cell_type": "code",
   "execution_count": 7,
   "metadata": {},
   "outputs": [
    {
     "name": "stdout",
     "output_type": "stream",
     "text": [
      "(6918,)\n",
      "(6918, 2011)\n"
     ]
    }
   ],
   "source": [
    "print(y.shape)\n",
    "print(X.shape)"
   ]
  },
  {
   "cell_type": "code",
   "execution_count": 8,
   "metadata": {},
   "outputs": [],
   "source": [
    "X_train, X_test, y_train, y_test = train_test_split(X, y, test_size=0.20, random_state=42)"
   ]
  },
  {
   "cell_type": "code",
   "execution_count": 9,
   "metadata": {},
   "outputs": [
    {
     "data": {
      "text/plain": [
       "MultinomialNB(alpha=1.0, class_prior=None, fit_prior=True)"
      ]
     },
     "execution_count": 9,
     "metadata": {},
     "output_type": "execute_result"
    }
   ],
   "source": [
    "clf = naive_bayes.MultinomialNB()\n",
    "clf.fit(X_train,y_train)"
   ]
  },
  {
   "cell_type": "code",
   "execution_count": 10,
   "metadata": {},
   "outputs": [
    {
     "data": {
      "text/plain": [
       "97.47109826589595"
      ]
     },
     "execution_count": 10,
     "metadata": {},
     "output_type": "execute_result"
    }
   ],
   "source": [
    "accuracy_score(y_test,clf.predict(X_test))*100"
   ]
  },
  {
   "cell_type": "markdown",
   "metadata": {},
   "source": [
    "##### Testing my model with different movie reviews"
   ]
  },
  {
   "cell_type": "code",
   "execution_count": 11,
   "metadata": {},
   "outputs": [
    {
     "name": "stdout",
     "output_type": "stream",
     "text": [
      "Review: This movie was the best written, acted, visual effected, etc. movie. This movie was the best movie I have ever seen. I am a huge Christopher Nolan fan and this movie was his finest. Matthew McConaughey turned in his best performance of his lifetime. Anne Hathaway was an amazing supporting actress and compared to her performance in Les Miserables, I have no idea how she didn't get an Oscar for this. The visual effects were more than just Oscar worthy. They were pioneering. I have never seen anything like it. One thing I would recommend is having a little previous knowledge about space. Not like Einstein stuff though. I would recommend you see this movie as fast as you can if you are a Nolan fan or not. I give this movie a rating of 97 out of 100.\n",
      "\n",
      "Overall Review: Good\n"
     ]
    }
   ],
   "source": [
    "review = \"This movie was the best written, acted, visual effected, etc. movie. This movie was the best movie I have ever seen. I am a huge Christopher Nolan fan and this movie was his finest. Matthew McConaughey turned in his best performance of his lifetime. Anne Hathaway was an amazing supporting actress and compared to her performance in Les Miserables, I have no idea how she didn't get an Oscar for this. The visual effects were more than just Oscar worthy. They were pioneering. I have never seen anything like it. One thing I would recommend is having a little previous knowledge about space. Not like Einstein stuff though. I would recommend you see this movie as fast as you can if you are a Nolan fan or not. I give this movie a rating of 97 out of 100.\"\n",
    "movie_review = np.array([review])\n",
    "movie_vector = vectorizer.transform(movie_review)\n",
    "pred = clf.predict(movie_vector)\n",
    "print('Review:', review)\n",
    "print('\\n'+'Overall Review:', 'Good' if pred else 'Bad')"
   ]
  },
  {
   "cell_type": "code",
   "execution_count": 12,
   "metadata": {},
   "outputs": [
    {
     "name": "stdout",
     "output_type": "stream",
     "text": [
      "Review: On my list of 'worst movies ever made'. There is nothing likable about this movie. It's totally worthless noise.Honestly, I cannot think of one single redeeming moment... the story is stupid, the script is trite, the characters are 1-dimentional (as is the acting); I could care less if they lived or died. There's nothing special about the effects, nor the cinematography, nor the score. Several pointless scenes of mindless, ear-numbing shoot-em-up's that neither moved the plot along, nor offered any entertainment value, whatsoever.No one should be subjected to this film, ever, under any circumstances. The only thing this film is really good for is fire kindling.\n",
      "\n",
      "Overall Review: Bad\n"
     ]
    }
   ],
   "source": [
    "review = \"On my list of 'worst movies ever made'. There is nothing likable about this movie. It's totally worthless noise.Honestly, I cannot think of one single redeeming moment... the story is stupid, the script is trite, the characters are 1-dimentional (as is the acting); I could care less if they lived or died. There's nothing special about the effects, nor the cinematography, nor the score. Several pointless scenes of mindless, ear-numbing shoot-em-up's that neither moved the plot along, nor offered any entertainment value, whatsoever.No one should be subjected to this film, ever, under any circumstances. The only thing this film is really good for is fire kindling.\"\n",
    "movie_review = np.array([review])\n",
    "movie_vector = vectorizer.transform(movie_review)\n",
    "pred = clf.predict(movie_vector)\n",
    "print('Review:', review)\n",
    "print('\\n'+'Overall Review:', 'Good' if pred else 'Bad')"
   ]
  },
  {
   "cell_type": "code",
   "execution_count": 13,
   "metadata": {},
   "outputs": [
    {
     "name": "stdout",
     "output_type": "stream",
     "text": [
      "Review: This movie was really amazing and awesome, I was more hyped for Ralph Breaks the Internet than Incredibles 2. I am glad that a Wreck it Ralph sequel happened, I just love this movie a lot and I like this movie better than the first one, they're both great movies, Ralph and Vanellope are one of the best friends of all time in Disney history.\n",
      "\n",
      "Overall Review: Good\n"
     ]
    }
   ],
   "source": [
    "review = \"This movie was really amazing and awesome, I was more hyped for Ralph Breaks the Internet than Incredibles 2. I am glad that a Wreck it Ralph sequel happened, I just love this movie a lot and I like this movie better than the first one, they're both great movies, Ralph and Vanellope are one of the best friends of all time in Disney history.\"\n",
    "movie_review = np.array([review])\n",
    "movie_vector = vectorizer.transform(movie_review)\n",
    "pred = clf.predict(movie_vector)\n",
    "print('Review:', review)\n",
    "print('\\n'+'Overall Review:', 'Good' if pred else 'Bad')"
   ]
  },
  {
   "cell_type": "code",
   "execution_count": 14,
   "metadata": {},
   "outputs": [
    {
     "name": "stdout",
     "output_type": "stream",
     "text": [
      "Review: Why i went to the midnight showing of this movie i don't know but i guess its better then buying a ticket to this movie. Honestly i cant say i have ever seen a movie as bad as this in my entire life. This movie makes gigli look like an OK movie. There isn't one funny moment in the entire movie it is basically all crappy acting mixed with crappy comedy. The only way you could possibly find this funny is if you are high or have an IQ lower then 30. Kim Kardashian and Carmen ELectra's acting is so atrocious i actually kind of felt sick while watching it. I mean you would be way better off watching KIm's sex tape cause at least its more entertaining then this movie. I highly advise everyone to not see this movie ever and try to get these to directors to never make another god awful movie again. Its kind of sad 2 grown men find this funny. PATHETIC\n",
      "\n",
      "Overall Review: Bad\n"
     ]
    }
   ],
   "source": [
    "review = \"Why i went to the midnight showing of this movie i don't know but i guess its better then buying a ticket to this movie. Honestly i cant say i have ever seen a movie as bad as this in my entire life. This movie makes gigli look like an OK movie. There isn't one funny moment in the entire movie it is basically all crappy acting mixed with crappy comedy. The only way you could possibly find this funny is if you are high or have an IQ lower then 30. Kim Kardashian and Carmen ELectra's acting is so atrocious i actually kind of felt sick while watching it. I mean you would be way better off watching KIm's sex tape cause at least its more entertaining then this movie. I highly advise everyone to not see this movie ever and try to get these to directors to never make another god awful movie again. Its kind of sad 2 grown men find this funny. PATHETIC\"\n",
    "movie_review = np.array([review])\n",
    "movie_vector = vectorizer.transform(movie_review)\n",
    "pred = clf.predict(movie_vector)\n",
    "print('Review:', review)\n",
    "print('\\n'+'Overall Review:', 'Good' if pred else 'Bad')"
   ]
  },
  {
   "cell_type": "code",
   "execution_count": null,
   "metadata": {},
   "outputs": [],
   "source": []
  }
 ],
 "metadata": {
  "kernelspec": {
   "display_name": "Python 3",
   "language": "python",
   "name": "python3"
  },
  "language_info": {
   "codemirror_mode": {
    "name": "ipython",
    "version": 3
   },
   "file_extension": ".py",
   "mimetype": "text/x-python",
   "name": "python",
   "nbconvert_exporter": "python",
   "pygments_lexer": "ipython3",
   "version": "3.6.6"
  }
 },
 "nbformat": 4,
 "nbformat_minor": 2
}
